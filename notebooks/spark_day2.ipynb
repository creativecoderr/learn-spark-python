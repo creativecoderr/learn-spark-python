{
 "cells": [
  {
   "cell_type": "code",
   "execution_count": 2,
   "metadata": {},
   "outputs": [
    {
     "name": "stdout",
     "output_type": "stream",
     "text": [
      "Requirement already satisfied: findspark in /home/ratulr/Documents/spark_session/miniconda3/envs/bdap/lib/python3.5/site-packages\n"
     ]
    }
   ],
   "source": [
    "%%bash\n",
    "source activate bdap\n",
    "pip install findspark"
   ]
  },
  {
   "cell_type": "code",
   "execution_count": null,
   "metadata": {},
   "outputs": [],
   "source": [
    "import findspark\n",
    "\n",
    "findspark.init(\"/home/ratulr/spark17/spark2\")\n",
    "\n",
    "import pyspark as ps\n",
    "\n",
    "# Namespace - A collection of objects\n",
    "sc = ps.SparkContext(appName=\"helloworld\")"
   ]
  },
  {
   "cell_type": "code",
   "execution_count": 5,
   "metadata": {},
   "outputs": [
    {
     "name": "stdout",
     "output_type": "stream",
     "text": [
      "30\n"
     ]
    }
   ],
   "source": [
    "# Counting the lines\n",
    "lines = sc.textFile(\"/home/ratulr/spark17/learn-spark-python/README.md\")\n",
    "lines_nonempty = lines.filter( lambda x:len(x) > 0)\n",
    "count = lines_nonempty.count()\n",
    "\n",
    "print(count)"
   ]
  }
 ],
 "metadata": {
  "kernelspec": {
   "display_name": "Python 3",
   "language": "python",
   "name": "python3"
  },
  "language_info": {
   "codemirror_mode": {
    "name": "ipython",
    "version": 3
   },
   "file_extension": ".py",
   "mimetype": "text/x-python",
   "name": "python",
   "nbconvert_exporter": "python",
   "pygments_lexer": "ipython3",
   "version": "3.5.2"
  },
  "widgets": {
   "state": {},
   "version": "1.1.2"
  }
 },
 "nbformat": 4,
 "nbformat_minor": 2
}
